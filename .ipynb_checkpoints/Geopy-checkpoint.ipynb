{
 "cells": [
  {
   "cell_type": "code",
   "execution_count": 1,
   "id": "8cd331c8",
   "metadata": {},
   "outputs": [
    {
     "data": {
      "text/plain": [
       "['AlgoliaPlaces',\n",
       " 'ArcGIS',\n",
       " 'AzureMaps',\n",
       " 'BANFrance',\n",
       " 'Baidu',\n",
       " 'BaiduV3',\n",
       " 'Bing',\n",
       " 'DataBC',\n",
       " 'GeoNames',\n",
       " 'GeocodeEarth',\n",
       " 'Geocodio',\n",
       " 'Geolake',\n",
       " 'GoogleV3',\n",
       " 'Here',\n",
       " 'HereV7',\n",
       " 'IGNFrance',\n",
       " 'LiveAddress',\n",
       " 'Location',\n",
       " 'MapBox',\n",
       " 'MapQuest',\n",
       " 'MapTiler',\n",
       " 'Nominatim',\n",
       " 'OpenCage',\n",
       " 'OpenMapQuest',\n",
       " 'Pelias',\n",
       " 'Photon',\n",
       " 'PickPoint',\n",
       " 'Point',\n",
       " 'Timezone',\n",
       " 'TomTom',\n",
       " 'What3Words',\n",
       " 'What3WordsV3',\n",
       " 'Yandex',\n",
       " '__builtins__',\n",
       " '__cached__',\n",
       " '__doc__',\n",
       " '__file__',\n",
       " '__loader__',\n",
       " '__name__',\n",
       " '__package__',\n",
       " '__path__',\n",
       " '__spec__',\n",
       " '__version__',\n",
       " '__version_info__',\n",
       " 'adapters',\n",
       " 'compat',\n",
       " 'exc',\n",
       " 'format',\n",
       " 'geocoders',\n",
       " 'get_geocoder_for_service',\n",
       " 'get_version',\n",
       " 'location',\n",
       " 'point',\n",
       " 'timezone',\n",
       " 'units',\n",
       " 'util']"
      ]
     },
     "execution_count": 1,
     "metadata": {},
     "output_type": "execute_result"
    }
   ],
   "source": [
    "import geopy;\n",
    "dir(geopy)"
   ]
  },
  {
   "cell_type": "code",
   "execution_count": 6,
   "id": "e35edca5",
   "metadata": {},
   "outputs": [],
   "source": [
    "from geopy.geocoders import Nominatim\n"
   ]
  },
  {
   "cell_type": "code",
   "execution_count": 8,
   "id": "8265f325",
   "metadata": {},
   "outputs": [
    {
     "name": "stdout",
     "output_type": "stream",
     "text": [
      "Flatiron Building, 175, 5th Avenue, Flatiron District, Manhattan Community Board 5, New York County, New York, 10010, United States\n"
     ]
    }
   ],
   "source": [
    "geolocator = Nominatim(user_agent=\"My-app\")\n",
    "location = geolocator.geocode(\"175 5th Avenue NYC\")\n",
    "print(location.address)"
   ]
  },
  {
   "cell_type": "code",
   "execution_count": 9,
   "id": "ad937d58",
   "metadata": {},
   "outputs": [
    {
     "data": {
      "text/plain": [
       "40.741059199999995"
      ]
     },
     "execution_count": 9,
     "metadata": {},
     "output_type": "execute_result"
    }
   ],
   "source": [
    "location.latitude"
   ]
  },
  {
   "cell_type": "code",
   "execution_count": 10,
   "id": "f600ea08",
   "metadata": {},
   "outputs": [
    {
     "data": {
      "text/plain": [
       "-73.98964162240998"
      ]
     },
     "execution_count": 10,
     "metadata": {},
     "output_type": "execute_result"
    }
   ],
   "source": [
    "location.longitude\n"
   ]
  },
  {
   "cell_type": "code",
   "execution_count": 20,
   "id": "667847bf",
   "metadata": {},
   "outputs": [
    {
     "name": "stdout",
     "output_type": "stream",
     "text": [
      "কোটালিপাড়া, গোপালগঞ্জ জেলা, ঢাকা বিভাগ, বাংলাদেশ\n"
     ]
    }
   ],
   "source": [
    "my_area = geolocator.geocode(\"Kotalipara\")\n",
    "print(my_area.address)"
   ]
  },
  {
   "cell_type": "code",
   "execution_count": 21,
   "id": "decd83b8",
   "metadata": {},
   "outputs": [
    {
     "data": {
      "text/plain": [
       "22.9920084"
      ]
     },
     "execution_count": 21,
     "metadata": {},
     "output_type": "execute_result"
    }
   ],
   "source": [
    "my_area.latitude"
   ]
  },
  {
   "cell_type": "code",
   "execution_count": 22,
   "id": "8a263065",
   "metadata": {},
   "outputs": [
    {
     "data": {
      "text/plain": [
       "90.000354"
      ]
     },
     "execution_count": 22,
     "metadata": {},
     "output_type": "execute_result"
    }
   ],
   "source": [
    "my_area.longitude"
   ]
  },
  {
   "cell_type": "code",
   "execution_count": 23,
   "id": "002982e7",
   "metadata": {},
   "outputs": [
    {
     "name": "stdout",
     "output_type": "stream",
     "text": [
      "কোটালিপাড়া, গোপালগঞ্জ জেলা, ঢাকা বিভাগ, বাংলাদেশ\n"
     ]
    }
   ],
   "source": [
    "print(my_area)"
   ]
  },
  {
   "cell_type": "code",
   "execution_count": null,
   "id": "25d61115",
   "metadata": {},
   "outputs": [],
   "source": []
  }
 ],
 "metadata": {
  "kernelspec": {
   "display_name": "Python 3 (ipykernel)",
   "language": "python",
   "name": "python3"
  },
  "language_info": {
   "codemirror_mode": {
    "name": "ipython",
    "version": 3
   },
   "file_extension": ".py",
   "mimetype": "text/x-python",
   "name": "python",
   "nbconvert_exporter": "python",
   "pygments_lexer": "ipython3",
   "version": "3.9.12"
  }
 },
 "nbformat": 4,
 "nbformat_minor": 5
}
