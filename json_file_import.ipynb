{
 "cells": [
  {
   "cell_type": "code",
   "execution_count": 3,
   "id": "47be9d85",
   "metadata": {},
   "outputs": [
    {
     "name": "stdout",
     "output_type": "stream",
     "text": [
      "   ID          Address           City             State Country         Name  \\\n",
      "0   1     3666 21st St  San Francisco          CA 94114     USA      Madeira   \n",
      "1   2   735 Dolores St  San Francisco          CA 94119     USA  Bready Shop   \n",
      "2   3      332 Hill St  San Francisco  California 94114     USA  Super River   \n",
      "3   4     3995 23rd St  San Francisco          CA 94114     USA   Ben's Shop   \n",
      "4   5  1056 Sanchez St  San Francisco        California     USA      Sanchez   \n",
      "5   6  551 Alvarado St  San Francisco          CA 94114     USA   Richvalley   \n",
      "\n",
      "   Employees  \n",
      "0          8  \n",
      "1         15  \n",
      "2         25  \n",
      "3         10  \n",
      "4         12  \n",
      "5         20  \n"
     ]
    }
   ],
   "source": [
    "import pandas\n",
    "df1 = pandas.read_csv(\"supermarkets/supermarkets.csv\")\n",
    "print(df1)\n"
   ]
  },
  {
   "cell_type": "code",
   "execution_count": null,
   "id": "bb2b7bf9",
   "metadata": {},
   "outputs": [],
   "source": []
  }
 ],
 "metadata": {
  "kernelspec": {
   "display_name": "Python 3 (ipykernel)",
   "language": "python",
   "name": "python3"
  },
  "language_info": {
   "codemirror_mode": {
    "name": "ipython",
    "version": 3
   },
   "file_extension": ".py",
   "mimetype": "text/x-python",
   "name": "python",
   "nbconvert_exporter": "python",
   "pygments_lexer": "ipython3",
   "version": "3.9.12"
  }
 },
 "nbformat": 4,
 "nbformat_minor": 5
}
